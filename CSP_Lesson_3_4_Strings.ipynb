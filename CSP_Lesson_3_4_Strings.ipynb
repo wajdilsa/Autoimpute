{
  "nbformat": 4,
  "nbformat_minor": 0,
  "metadata": {
    "colab": {
      "provenance": [],
      "authorship_tag": "ABX9TyPbmCtZCWzm/gPLFNDU+O1I",
      "include_colab_link": true
    },
    "kernelspec": {
      "name": "python3",
      "display_name": "Python 3"
    },
    "language_info": {
      "name": "python"
    }
  },
  "cells": [
    {
      "cell_type": "markdown",
      "metadata": {
        "id": "view-in-github",
        "colab_type": "text"
      },
      "source": [
        "<a href=\"https://colab.research.google.com/github/wajdilsa/Autoimpute/blob/master/CSP_Lesson_3_4_Strings.ipynb\" target=\"_parent\"><img src=\"https://colab.research.google.com/assets/colab-badge.svg\" alt=\"Open In Colab\"/></a>"
      ]
    },
    {
      "cell_type": "markdown",
      "source": [
        "**Learning Objective**\n",
        "AAP-2.D Evaluate expressions that manipulate strings.\n",
        "\n",
        "**Success Criteria**\n",
        "\n",
        "1. Demonstrate Understanding:\n",
        "•\tStudents should be able to explain the concepts and functions in Python used for string manipulation, such as indexing, slicing, concatenation, and the use of built-in string methods like replace(), upper(), lower(), find(), and format(). A clear understanding can be demonstrated through accurate verbal or written explanations.\n",
        "\n",
        "2. Apply Knowledge to Solve Problems:\n",
        "•\tStudents should successfully apply string manipulation techniques to solve given problems. This could be assessed through coding assignments or tests where students must write Python scripts that perform specific string operations, demonstrating their ability to evaluate and manipulate strings correctly.\n",
        "\n",
        "3. Accuracy and Efficiency in Code:\n",
        "•\tStudents should write Python code that not only produces the correct outcome but also follows best practices for efficiency and readability. Code reviews or rubrics can be used to assess the students’ ability to use string methods and expressions in Python effectively, with an emphasis on choosing the most appropriate method for a given task and writing clean, maintainable code.\n",
        "\n",
        "**Academic Vocabulary**\n",
        "\n",
        "•\tString: A sequence of characters enclosed in double quotes (e.g., \"Hello, World!\").\n",
        "\n",
        "•\tCharacter: A single Unicode character represented by a single character enclosed in single quotes (e.g., 'A').\n",
        "\n",
        "•\tConcatenation: The process of combining two or more strings to create a new string, often using the + operator.\n",
        "\n",
        "•\tImmutable: In the context of strings, it means that once a string is created, its value cannot be changed. Any operation on a string creates a new string.\n",
        "\n",
        "•\tEscape Character: A character used to represent special characters within a string, preceded by a backslash (e.g., \\n for a newline)."
      ],
      "metadata": {
        "id": "KBH5Oi8kt3lC"
      }
    },
    {
      "cell_type": "code",
      "source": [
        "# Function to manipulate a sentence using string functions\n",
        "def manipulate_sentence(sentence, target_word, replacement, format_value):\n",
        "    # Using replace() to replace a specific word\n",
        "    replaced_sentence = sentence.replace(target_word, replacement)\n",
        "\n",
        "    # Using upper() to convert the sentence to uppercase\n",
        "    uppercased_sentence = replaced_sentence.upper()\n",
        "\n",
        "    # Using lower() to convert the sentence to lowercase\n",
        "    lowercased_sentence = replaced_sentence.lower()\n",
        "\n",
        "    # Using find() to find the index of a word\n",
        "    index_of_target_word = replaced_sentence.find(target_word)\n",
        "\n",
        "    # Using format() to format a string with a placeholder\n",
        "    formatted_result = \"Formatted Result: {}\".format(format_value)\n",
        "\n",
        "    # Printing the results\n",
        "    print(\"Original Sentence:\", sentence)\n",
        "    print(\"Replaced Sentence:\", replaced_sentence)\n",
        "    print(\"Uppercased Sentence:\", uppercased_sentence)\n",
        "    print(\"Lowercased Sentence:\", lowercased_sentence)\n",
        "    print(\"Index of '{}' in replaced sentence: {}\".format(target_word, index_of_target_word))\n",
        "    print(formatted_result)\n",
        "\n",
        "# Example usage\n",
        "sentence = \"Python is a powerful programming language. Python is versatile and easy to learn.\"\n",
        "target_word = \"Python\"\n",
        "replacement_word = \"Java\"\n",
        "format_value = \"This is a new formatted result.\"\n",
        "\n",
        "manipulate_sentence(sentence, target_word, replacement_word, format_value)\n"
      ],
      "metadata": {
        "colab": {
          "base_uri": "https://localhost:8080/"
        },
        "id": "uhHDixU2t5Ns",
        "outputId": "f3a8f9ca-c8b4-41af-f164-dea8f55b921d"
      },
      "execution_count": 1,
      "outputs": [
        {
          "output_type": "stream",
          "name": "stdout",
          "text": [
            "Original Sentence: Python is a powerful programming language. Python is versatile and easy to learn.\n",
            "Replaced Sentence: Java is a powerful programming language. Java is versatile and easy to learn.\n",
            "Uppercased Sentence: JAVA IS A POWERFUL PROGRAMMING LANGUAGE. JAVA IS VERSATILE AND EASY TO LEARN.\n",
            "Lowercased Sentence: java is a powerful programming language. java is versatile and easy to learn.\n",
            "Index of 'Python' in replaced sentence: -1\n",
            "Formatted Result: This is a new formatted result.\n"
          ]
        }
      ]
    }
  ]
}